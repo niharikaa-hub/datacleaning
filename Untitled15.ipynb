{
  "nbformat": 4,
  "nbformat_minor": 0,
  "metadata": {
    "colab": {
      "provenance": []
    },
    "kernelspec": {
      "name": "python3",
      "display_name": "Python 3"
    },
    "language_info": {
      "name": "python"
    }
  },
  "cells": [
    {
      "cell_type": "code",
      "execution_count": 1,
      "metadata": {
        "colab": {
          "base_uri": "https://localhost:8080/"
        },
        "id": "_vJ75CgLxfyA",
        "outputId": "6dfc40b4-7f8c-43d9-8507-14cfcf2dc36c"
      },
      "outputs": [
        {
          "output_type": "stream",
          "name": "stdout",
          "text": [
            "Bias: 3.424501610932042\n",
            "Variance: 1.3521251246233683\n"
          ]
        }
      ],
      "source": [
        "#. Bias and Variance\n",
        "import numpy as np\n",
        "from sklearn.model_selection import train_test_split, cross_val_score\n",
        "from sklearn.linear_model import LinearRegression\n",
        "from sklearn.metrics import mean_squared_error\n",
        "\n",
        "# Generate sample data\n",
        "np.random.seed(42)\n",
        "X = np.random.rand(100, 1)\n",
        "y = 2 * X.squeeze() + 3 + np.random.randn(100) * 2\n",
        "\n",
        "# Split data\n",
        "X_train, X_test, y_train, y_test = train_test_split(X, y, test_size=0.2, random_state=42)\n",
        "\n",
        "# Create and train model\n",
        "model = LinearRegression()\n",
        "model.fit(X_train, y_train)\n",
        "\n",
        "# Calculate bias and variance using cross-validation\n",
        "cv_scores = cross_val_score(model, X, y, cv=9, scoring='neg_mean_squared_error')\n",
        "bias = np.mean(-cv_scores)\n",
        "variance = np.std(-cv_scores)\n",
        "\n",
        "print(\"Bias:\", bias)\n",
        "print(\"Variance:\", variance)"
      ]
    },
    {
      "cell_type": "code",
      "source": [
        "#  Removing Duplicates\n",
        "import numpy as np\n",
        "import pandas as pd\n",
        "\n",
        "# Generate sample data with intentional duplicates\n",
        "np.random.seed(42)\n",
        "X = np.random.rand(100, 1)*100\n",
        "\n",
        "y = 2 * X.squeeze() + 3 + np.random.randn(100) * 2\n",
        "print(y)\n",
        "\n",
        "data = pd.DataFrame({'X': X.squeeze(), 'y': y})\n",
        "\n",
        "\n",
        "# Introduce duplicates\n",
        "duplicate_indices = [0, 2, 5, 10]  # Indices of rows to duplicate\n",
        "duplicate_rows = data.loc[duplicate_indices]\n",
        "data = pd.concat([data, duplicate_rows], ignore_index=True)\n",
        "print(data.head())\n",
        "\n",
        "# Identify and display duplicates\n",
        "duplicates = data[data.duplicated(keep=False)]\n",
        "print(\"Duplicates before removal:\\n\", duplicates)  # To see the output, run the code.\n",
        "\n",
        "# Remove duplicates\n",
        "data.drop_duplicates(inplace=True)\n",
        "print(\"\\nData after removing duplicates:\\n\", data)  # To see the output, run the code."
      ],
      "metadata": {
        "colab": {
          "base_uri": "https://localhost:8080/"
        },
        "id": "rZXc1Lwc0DNn",
        "outputId": "a9cf57ea-35af-459d-8373-1d50cbeb7e2f"
      },
      "execution_count": 2,
      "outputs": [
        {
          "output_type": "stream",
          "name": "stdout",
          "text": [
            "[ 78.08211791 192.54484658 149.58230992 118.75655901  33.76438431\n",
            "  34.91312921  17.57251052 175.19868872 121.60601514 143.61100147\n",
            "   8.94770309 197.63947265 168.42900775  46.494357    39.55914854\n",
            "  41.61819195  62.4443424  107.29596203  88.60478742  58.31879814\n",
            " 125.9628195   31.42088267  61.43915662  75.80319439  91.38325536\n",
            " 159.19390163  42.2493274  104.24233314 121.16034235  13.09818426\n",
            " 128.28134218  37.45398036  16.52541938 192.62821562 192.28886418\n",
            " 164.62644187  64.04321425  27.46090703 139.46188337  91.63359343\n",
            "  27.33822343  99.69802595  12.16334985 186.36794648  56.33806021\n",
            " 133.68568196  68.14780384 104.20990211 113.51577006  44.35180236\n",
            " 194.9358529  156.89396921 191.09909104 180.95851878 119.4786689\n",
            " 187.51197295  18.57389298  43.14375735  10.20660931  71.16593496\n",
            "  79.16895135  56.62568332 170.37453627  71.88893671  59.64182181\n",
            " 114.15350214  27.96987853 163.80866387  18.42989432 201.94103306\n",
            " 154.97505244  40.10222308   5.14830656 166.68625504 144.87245447\n",
            " 149.49433003 155.89401989  18.27343774  75.27929066  24.74510907\n",
            " 179.3522342  128.60729121  66.79699798  17.02477727  63.247101\n",
            "  69.61083361 151.23842683 128.87012963 182.36930077  98.26854689\n",
            "  28.56296951 149.44254341 154.66623349 113.74796719 155.41440713\n",
            " 100.1274987  107.39236246  89.19050762   8.63720695  26.2326519 ]\n",
            "           X           y\n",
            "0  37.454012   78.082118\n",
            "1  95.071431  192.544847\n",
            "2  73.199394  149.582310\n",
            "3  59.865848  118.756559\n",
            "4  15.601864   33.764384\n",
            "Duplicates before removal:\n",
            "              X           y\n",
            "0    37.454012   78.082118\n",
            "2    73.199394  149.582310\n",
            "5    15.599452   34.913129\n",
            "10    2.058449    8.947703\n",
            "100  37.454012   78.082118\n",
            "101  73.199394  149.582310\n",
            "102  15.599452   34.913129\n",
            "103   2.058449    8.947703\n",
            "\n",
            "Data after removing duplicates:\n",
            "             X           y\n",
            "0   37.454012   78.082118\n",
            "1   95.071431  192.544847\n",
            "2   73.199394  149.582310\n",
            "3   59.865848  118.756559\n",
            "4   15.601864   33.764384\n",
            "..        ...         ...\n",
            "95  49.379560  100.127499\n",
            "96  52.273283  107.392362\n",
            "97  42.754102   89.190508\n",
            "98   2.541913    8.637207\n",
            "99  10.789143   26.232652\n",
            "\n",
            "[100 rows x 2 columns]\n"
          ]
        }
      ]
    },
    {
      "cell_type": "code",
      "source": [
        "# Cross-Validation\n",
        "\n",
        "import numpy as np\n",
        "from sklearn.model_selection import cross_val_score\n",
        "from sklearn.linear_model import LinearRegression\n",
        "\n",
        "# Generate sample data\n",
        "np.random.seed(42)\n",
        "X = np.random.rand(100, 1)\n",
        "y = 2 * X.squeeze() + 3 + np.random.randn(100) * 2\n",
        "\n",
        "# Perform cross-validation\n",
        "model = LinearRegression()\n",
        "cv_scores = cross_val_score(model, X, y, cv=5, scoring='neg_mean_squared_error')\n",
        "\n",
        "print(\"Cross-validation scores:\", cv_scores) # To see the output, run the code."
      ],
      "metadata": {
        "colab": {
          "base_uri": "https://localhost:8080/"
        },
        "id": "L9y5DPJE1qwQ",
        "outputId": "62607efd-6c9d-4db0-a4f1-78dbe97961e8"
      },
      "execution_count": 3,
      "outputs": [
        {
          "output_type": "stream",
          "name": "stdout",
          "text": [
            "Cross-validation scores: [-2.43069182 -3.17458868 -4.26552108 -3.29655195 -3.90217499]\n"
          ]
        }
      ]
    }
  ]
}